{
 "cells": [
  {
   "cell_type": "code",
   "execution_count": 1,
   "id": "7e16ab32",
   "metadata": {},
   "outputs": [],
   "source": [
    "import emoji\n",
    "import pandas as pd"
   ]
  },
  {
   "cell_type": "code",
   "execution_count": 22,
   "id": "f7d216d2",
   "metadata": {},
   "outputs": [],
   "source": [
    "df = pd.read_csv(\"HighLevel_3MZ6aTpFrE0_master.csv\", encoding='utf-8')"
   ]
  },
  {
   "cell_type": "code",
   "execution_count": 25,
   "id": "2674a85c",
   "metadata": {},
   "outputs": [
    {
     "data": {
      "text/html": [
       "<div>\n",
       "<style scoped>\n",
       "    .dataframe tbody tr th:only-of-type {\n",
       "        vertical-align: middle;\n",
       "    }\n",
       "\n",
       "    .dataframe tbody tr th {\n",
       "        vertical-align: top;\n",
       "    }\n",
       "\n",
       "    .dataframe thead th {\n",
       "        text-align: right;\n",
       "    }\n",
       "</style>\n",
       "<table border=\"1\" class=\"dataframe\">\n",
       "  <thead>\n",
       "    <tr style=\"text-align: right;\">\n",
       "      <th></th>\n",
       "      <th>Unnamed: 0</th>\n",
       "      <th>Comments</th>\n",
       "      <th>Comment ID</th>\n",
       "    </tr>\n",
       "  </thead>\n",
       "  <tbody>\n",
       "    <tr>\n",
       "      <th>0</th>\n",
       "      <td>0</td>\n",
       "      <td>Hey Guys! Any other awesome deal that we misse...</td>\n",
       "      <td>197154_1</td>\n",
       "    </tr>\n",
       "    <tr>\n",
       "      <th>1</th>\n",
       "      <td>1</td>\n",
       "      <td>Which extension was it you used to track the p...</td>\n",
       "      <td>274067_1</td>\n",
       "    </tr>\n",
       "    <tr>\n",
       "      <th>2</th>\n",
       "      <td>2</td>\n",
       "      <td>realme gt neo 3t will be back in sale or not?</td>\n",
       "      <td>857536_1</td>\n",
       "    </tr>\n",
       "    <tr>\n",
       "      <th>3</th>\n",
       "      <td>3</td>\n",
       "      <td>Got few deals for myself myself:\\n1. Sony WH-1...</td>\n",
       "      <td>724364_1</td>\n",
       "    </tr>\n",
       "    <tr>\n",
       "      <th>4</th>\n",
       "      <td>4</td>\n",
       "      <td>Sir, could you please suggest any way to updat...</td>\n",
       "      <td>353754_1</td>\n",
       "    </tr>\n",
       "    <tr>\n",
       "      <th>...</th>\n",
       "      <td>...</td>\n",
       "      <td>...</td>\n",
       "      <td>...</td>\n",
       "    </tr>\n",
       "    <tr>\n",
       "      <th>499</th>\n",
       "      <td>499</td>\n",
       "      <td>Good Evening Bee 😁</td>\n",
       "      <td>465840_1</td>\n",
       "    </tr>\n",
       "    <tr>\n",
       "      <th>500</th>\n",
       "      <td>500</td>\n",
       "      <td>Hum first 😂</td>\n",
       "      <td>743612_1</td>\n",
       "    </tr>\n",
       "    <tr>\n",
       "      <th>501</th>\n",
       "      <td>501</td>\n",
       "      <td>😂</td>\n",
       "      <td>857843_1</td>\n",
       "    </tr>\n",
       "    <tr>\n",
       "      <th>502</th>\n",
       "      <td>502</td>\n",
       "      <td>❤❤❤</td>\n",
       "      <td>438384_1</td>\n",
       "    </tr>\n",
       "    <tr>\n",
       "      <th>503</th>\n",
       "      <td>503</td>\n",
       "      <td>First ❤</td>\n",
       "      <td>987781_1</td>\n",
       "    </tr>\n",
       "  </tbody>\n",
       "</table>\n",
       "<p>504 rows × 3 columns</p>\n",
       "</div>"
      ],
      "text/plain": [
       "     Unnamed: 0                                           Comments Comment ID\n",
       "0             0  Hey Guys! Any other awesome deal that we misse...   197154_1\n",
       "1             1  Which extension was it you used to track the p...   274067_1\n",
       "2             2      realme gt neo 3t will be back in sale or not?   857536_1\n",
       "3             3  Got few deals for myself myself:\\n1. Sony WH-1...   724364_1\n",
       "4             4  Sir, could you please suggest any way to updat...   353754_1\n",
       "..          ...                                                ...        ...\n",
       "499         499                                 Good Evening Bee 😁   465840_1\n",
       "500         500                                        Hum first 😂   743612_1\n",
       "501         501                                                  😂   857843_1\n",
       "502         502                                                ❤❤❤   438384_1\n",
       "503         503                                            First ❤   987781_1\n",
       "\n",
       "[504 rows x 3 columns]"
      ]
     },
     "execution_count": 25,
     "metadata": {},
     "output_type": "execute_result"
    }
   ],
   "source": [
    "df"
   ]
  },
  {
   "cell_type": "code",
   "execution_count": 23,
   "id": "a96ab7b4",
   "metadata": {},
   "outputs": [],
   "source": [
    "def extract_emojis(comment):\n",
    "    return ''.join(c for c in comment if c in emoji.EMOJI_DATA)\n",
    "\n",
    "emojis = df['Comments'].apply(extract_emojis)\n",
    "\n",
    "emoji_frequency = emojis.apply(lambda x: pd.value_counts(list(x))).sum().sort_values(ascending=False).astype(int).to_dict()\n"
   ]
  },
  {
   "cell_type": "code",
   "execution_count": 24,
   "id": "25bab4e7",
   "metadata": {},
   "outputs": [
    {
     "data": {
      "text/plain": [
       "{'😂': 28,\n",
       " '❤': 24,\n",
       " '🙏': 8,\n",
       " '🔥': 7,\n",
       " '😅': 7,\n",
       " '🎉': 7,\n",
       " '😢': 5,\n",
       " '😊': 5,\n",
       " '🥴': 3,\n",
       " '👍': 3,\n",
       " '😍': 3,\n",
       " '😭': 3,\n",
       " '😃': 3,\n",
       " '👀': 2,\n",
       " '🤔': 2,\n",
       " '😒': 2,\n",
       " '😁': 2,\n",
       " '🌟': 1,\n",
       " '🧐': 1,\n",
       " '😔': 1,\n",
       " '😇': 1,\n",
       " '🙂': 1,\n",
       " '🖤': 1,\n",
       " '📱': 1,\n",
       " '🤌': 1,\n",
       " '🤟': 1,\n",
       " '🌝': 1,\n",
       " '🤧': 1,\n",
       " '🗿': 1,\n",
       " '🥲': 1,\n",
       " '😤': 1,\n",
       " '😌': 1,\n",
       " '😥': 1,\n",
       " '💀': 1,\n",
       " '💫': 1,\n",
       " '😵': 1,\n",
       " '🏻': 1,\n",
       " '👏': 1,\n",
       " '🤯': 1,\n",
       " '📍': 1,\n",
       " '👌': 1,\n",
       " '🔋': 1,\n",
       " '🙄': 1,\n",
       " '🤞': 1,\n",
       " '✨': 1,\n",
       " '👎': 1,\n",
       " '🤝': 1,\n",
       " '🥶': 1}"
      ]
     },
     "execution_count": 24,
     "metadata": {},
     "output_type": "execute_result"
    }
   ],
   "source": [
    "emoji_frequency"
   ]
  },
  {
   "cell_type": "code",
   "execution_count": null,
   "id": "5c6b08b7",
   "metadata": {},
   "outputs": [],
   "source": []
  }
 ],
 "metadata": {
  "kernelspec": {
   "display_name": "Python 3 (ipykernel)",
   "language": "python",
   "name": "python3"
  },
  "language_info": {
   "codemirror_mode": {
    "name": "ipython",
    "version": 3
   },
   "file_extension": ".py",
   "mimetype": "text/x-python",
   "name": "python",
   "nbconvert_exporter": "python",
   "pygments_lexer": "ipython3",
   "version": "3.9.13"
  }
 },
 "nbformat": 4,
 "nbformat_minor": 5
}
