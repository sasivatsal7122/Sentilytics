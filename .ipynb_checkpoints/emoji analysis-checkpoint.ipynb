{
 "cells": [
  {
   "cell_type": "code",
   "execution_count": 1,
   "id": "7e16ab32",
   "metadata": {},
   "outputs": [],
   "source": [
    "import emoji\n",
    "import pandas as pd"
   ]
  },
  {
   "cell_type": "code",
   "execution_count": 22,
   "id": "f7d216d2",
   "metadata": {},
   "outputs": [],
   "source": [
    "df = pd.read_csv(\"HighLevel_3MZ6aTpFrE0_master.csv\", encoding='utf-8')"
   ]
  },
  {
   "cell_type": "code",
   "execution_count": 23,
   "id": "a96ab7b4",
   "metadata": {},
   "outputs": [],
   "source": [
    "def extract_emojis(comment):\n",
    "    return ''.join(c for c in comment if c in emoji.EMOJI_DATA)\n",
    "\n",
    "emojis = df['Comments'].apply(extract_emojis)\n",
    "\n",
    "emoji_frequency = emojis.apply(lambda x: pd.value_counts(list(x))).sum().sort_values(ascending=False).astype(int).to_dict()\n"
   ]
  },
  {
   "cell_type": "code",
   "execution_count": 24,
   "id": "25bab4e7",
   "metadata": {},
   "outputs": [
    {
     "data": {
      "text/plain": [
       "{'😂': 28,\n",
       " '❤': 24,\n",
       " '🙏': 8,\n",
       " '🔥': 7,\n",
       " '😅': 7,\n",
       " '🎉': 7,\n",
       " '😢': 5,\n",
       " '😊': 5,\n",
       " '🥴': 3,\n",
       " '👍': 3,\n",
       " '😍': 3,\n",
       " '😭': 3,\n",
       " '😃': 3,\n",
       " '👀': 2,\n",
       " '🤔': 2,\n",
       " '😒': 2,\n",
       " '😁': 2,\n",
       " '🌟': 1,\n",
       " '🧐': 1,\n",
       " '😔': 1,\n",
       " '😇': 1,\n",
       " '🙂': 1,\n",
       " '🖤': 1,\n",
       " '📱': 1,\n",
       " '🤌': 1,\n",
       " '🤟': 1,\n",
       " '🌝': 1,\n",
       " '🤧': 1,\n",
       " '🗿': 1,\n",
       " '🥲': 1,\n",
       " '😤': 1,\n",
       " '😌': 1,\n",
       " '😥': 1,\n",
       " '💀': 1,\n",
       " '💫': 1,\n",
       " '😵': 1,\n",
       " '🏻': 1,\n",
       " '👏': 1,\n",
       " '🤯': 1,\n",
       " '📍': 1,\n",
       " '👌': 1,\n",
       " '🔋': 1,\n",
       " '🙄': 1,\n",
       " '🤞': 1,\n",
       " '✨': 1,\n",
       " '👎': 1,\n",
       " '🤝': 1,\n",
       " '🥶': 1}"
      ]
     },
     "execution_count": 24,
     "metadata": {},
     "output_type": "execute_result"
    }
   ],
   "source": [
    "emoji_frequency"
   ]
  },
  {
   "cell_type": "code",
   "execution_count": null,
   "id": "5c6b08b7",
   "metadata": {},
   "outputs": [],
   "source": []
  }
 ],
 "metadata": {
  "kernelspec": {
   "display_name": "Python 3 (ipykernel)",
   "language": "python",
   "name": "python3"
  },
  "language_info": {
   "codemirror_mode": {
    "name": "ipython",
    "version": 3
   },
   "file_extension": ".py",
   "mimetype": "text/x-python",
   "name": "python",
   "nbconvert_exporter": "python",
   "pygments_lexer": "ipython3",
   "version": "3.9.13"
  }
 },
 "nbformat": 4,
 "nbformat_minor": 5
}
