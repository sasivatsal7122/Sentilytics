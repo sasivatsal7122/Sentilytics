{
 "cells": [
  {
   "cell_type": "code",
   "execution_count": 49,
   "id": "0ff50932",
   "metadata": {},
   "outputs": [],
   "source": [
    "import numpy as np\n",
    "import pandas as pd\n",
    "import matplotlib.pyplot as plt\n",
    "import seaborn as sns\n",
    "import re\n",
    "\n",
    "%matplotlib inline\n",
    "import warnings\n",
    "warnings.filterwarnings(\"ignore\")\n",
    "\n",
    "import os\n"
   ]
  },
  {
   "cell_type": "code",
   "execution_count": 50,
   "id": "185500be",
   "metadata": {},
   "outputs": [],
   "source": [
    "pd.set_option('display.max_columns',None)"
   ]
  },
  {
   "cell_type": "code",
   "execution_count": 51,
   "id": "c95c07f5",
   "metadata": {},
   "outputs": [],
   "source": [
    "comments = pd.read_csv('all_lUDozITit6w.csv', error_bad_lines=False)"
   ]
  },
  {
   "cell_type": "code",
   "execution_count": 52,
   "id": "c4c3f532",
   "metadata": {},
   "outputs": [
    {
     "data": {
      "text/html": [
       "<div>\n",
       "<style scoped>\n",
       "    .dataframe tbody tr th:only-of-type {\n",
       "        vertical-align: middle;\n",
       "    }\n",
       "\n",
       "    .dataframe tbody tr th {\n",
       "        vertical-align: top;\n",
       "    }\n",
       "\n",
       "    .dataframe thead th {\n",
       "        text-align: right;\n",
       "    }\n",
       "</style>\n",
       "<table border=\"1\" class=\"dataframe\">\n",
       "  <thead>\n",
       "    <tr style=\"text-align: right;\">\n",
       "      <th></th>\n",
       "      <th>Unnamed: 0</th>\n",
       "      <th>Comments</th>\n",
       "    </tr>\n",
       "  </thead>\n",
       "  <tbody>\n",
       "    <tr>\n",
       "      <th>0</th>\n",
       "      <td>0</td>\n",
       "      <td>pixel a at after card discount so are you in g...</td>\n",
       "    </tr>\n",
       "    <tr>\n",
       "      <th>1</th>\n",
       "      <td>1</td>\n",
       "      <td>lakshay tanwar for how much did you bought and...</td>\n",
       "    </tr>\n",
       "    <tr>\n",
       "      <th>2</th>\n",
       "      <td>2</td>\n",
       "      <td>i am in group</td>\n",
       "    </tr>\n",
       "    <tr>\n",
       "      <th>3</th>\n",
       "      <td>3</td>\n",
       "      <td>krooksgaminginhd around navratri</td>\n",
       "    </tr>\n",
       "    <tr>\n",
       "      <th>4</th>\n",
       "      <td>4</td>\n",
       "      <td>what s best smartphone under k inr for best ca...</td>\n",
       "    </tr>\n",
       "    <tr>\n",
       "      <th>...</th>\n",
       "      <td>...</td>\n",
       "      <td>...</td>\n",
       "    </tr>\n",
       "    <tr>\n",
       "      <th>1586</th>\n",
       "      <td>1606</td>\n",
       "      <td>it is priced near to the pixel so who would bu...</td>\n",
       "    </tr>\n",
       "    <tr>\n",
       "      <th>1587</th>\n",
       "      <td>1607</td>\n",
       "      <td>two doo</td>\n",
       "    </tr>\n",
       "    <tr>\n",
       "      <th>1588</th>\n",
       "      <td>1608</td>\n",
       "      <td>bad phone</td>\n",
       "    </tr>\n",
       "    <tr>\n",
       "      <th>1589</th>\n",
       "      <td>1609</td>\n",
       "      <td>a href about invalid zcsafez a</td>\n",
       "    </tr>\n",
       "    <tr>\n",
       "      <th>1590</th>\n",
       "      <td>1610</td>\n",
       "      <td>kharid kaun raha hai isko jo group devide ho p...</td>\n",
       "    </tr>\n",
       "  </tbody>\n",
       "</table>\n",
       "<p>1591 rows × 2 columns</p>\n",
       "</div>"
      ],
      "text/plain": [
       "      Unnamed: 0                                           Comments\n",
       "0              0  pixel a at after card discount so are you in g...\n",
       "1              1  lakshay tanwar for how much did you bought and...\n",
       "2              2                                      i am in group\n",
       "3              3                   krooksgaminginhd around navratri\n",
       "4              4  what s best smartphone under k inr for best ca...\n",
       "...          ...                                                ...\n",
       "1586        1606  it is priced near to the pixel so who would bu...\n",
       "1587        1607                                            two doo\n",
       "1588        1608                                          bad phone\n",
       "1589        1609                     a href about invalid zcsafez a\n",
       "1590        1610  kharid kaun raha hai isko jo group devide ho p...\n",
       "\n",
       "[1591 rows x 2 columns]"
      ]
     },
     "execution_count": 52,
     "metadata": {},
     "output_type": "execute_result"
    }
   ],
   "source": [
    "comments"
   ]
  },
  {
   "cell_type": "code",
   "execution_count": 53,
   "id": "3bbfc407",
   "metadata": {},
   "outputs": [],
   "source": [
    "comments['Comments'] = comments['Comments'].apply(lambda x: ' '.join([w for w in x.split() if len(w)>3]))\n",
    "comments['Comments'] = comments['Comments'].apply(lambda x:x.lower())\n"
   ]
  },
  {
   "cell_type": "code",
   "execution_count": 54,
   "id": "b7ee9b55",
   "metadata": {},
   "outputs": [],
   "source": [
    "tokenized_tweet = comments['Comments'].apply(lambda x: x.split())\n",
    "tokenized_tweet.head()"
   ]
  },
  {
   "cell_type": "code",
   "execution_count": 55,
   "id": "5d15f8e2",
   "metadata": {},
   "outputs": [
    {
     "data": {
      "text/plain": [
       "0         [pixel, after, card, discount, group, group]\n",
       "1    [lakshay, tanwar, much, bought, there, heating...\n",
       "2                                              [group]\n",
       "3                 [krooksgaminginhd, around, navratri]\n",
       "4    [what, best, smartphone, under, best, camera, ...\n",
       "Name: Comments, dtype: object"
      ]
     },
     "execution_count": 55,
     "metadata": {},
     "output_type": "execute_result"
    }
   ],
   "source": [
    "from nltk.stem import WordNetLemmatizer\n",
    "from nltk.corpus import stopwords"
   ]
  },
  {
   "cell_type": "code",
   "execution_count": 57,
   "id": "fd8747e2",
   "metadata": {},
   "outputs": [],
   "source": [
    "wnl = WordNetLemmatizer()"
   ]
  },
  {
   "cell_type": "code",
   "execution_count": 58,
   "id": "6f4f1754",
   "metadata": {},
   "outputs": [
    {
     "data": {
      "text/plain": [
       "0         [pixel, after, card, discount, group, group]\n",
       "1    [lakshay, tanwar, much, bought, there, heating...\n",
       "2                                              [group]\n",
       "3                 [krooksgaminginhd, around, navratri]\n",
       "4    [what, best, smartphone, under, best, camera, ...\n",
       "Name: Comments, dtype: object"
      ]
     },
     "execution_count": 58,
     "metadata": {},
     "output_type": "execute_result"
    }
   ],
   "source": [
    "tokenized_tweet.apply(lambda x: [wnl.lemmatize(i) for i in x if i not in set(stopwords.words('english'))]) \n",
    "tokenized_tweet.head()"
   ]
  },
  {
   "cell_type": "code",
   "execution_count": 59,
   "id": "8713426b",
   "metadata": {},
   "outputs": [],
   "source": [
    "for i in range(len(tokenized_tweet)):\n",
    "    tokenized_tweet[i] = ' '.join(tokenized_tweet[i])"
   ]
  },
  {
   "cell_type": "code",
   "execution_count": 60,
   "id": "7e7252ad",
   "metadata": {},
   "outputs": [],
   "source": [
    "comments['Comments'] = tokenized_tweet"
   ]
  },
  {
   "cell_type": "code",
   "execution_count": 61,
   "id": "b329b5f5",
   "metadata": {},
   "outputs": [
    {
     "name": "stderr",
     "output_type": "stream",
     "text": [
      "[nltk_data] Downloading package vader_lexicon to\n",
      "[nltk_data]     /home/satyasasivatsal/nltk_data...\n",
      "[nltk_data]   Package vader_lexicon is already up-to-date!\n"
     ]
    },
    {
     "data": {
      "text/plain": [
       "True"
      ]
     },
     "execution_count": 61,
     "metadata": {},
     "output_type": "execute_result"
    }
   ],
   "source": [
    "import nltk\n",
    "nltk.download('vader_lexicon')"
   ]
  },
  {
   "cell_type": "code",
   "execution_count": 62,
   "id": "9921f528",
   "metadata": {},
   "outputs": [],
   "source": [
    "from nltk.sentiment.vader import SentimentIntensityAnalyzer\n",
    "sia = SentimentIntensityAnalyzer()"
   ]
  },
  {
   "cell_type": "code",
   "execution_count": 63,
   "id": "1a27ccde",
   "metadata": {},
   "outputs": [],
   "source": [
    "comments['Sentiment Scores'] = comments['Comments'].apply(lambda x:sia.polarity_scores(x)['compound'])"
   ]
  },
  {
   "cell_type": "code",
   "execution_count": 64,
   "id": "3abf34f8",
   "metadata": {},
   "outputs": [
    {
     "data": {
      "text/html": [
       "<div>\n",
       "<style scoped>\n",
       "    .dataframe tbody tr th:only-of-type {\n",
       "        vertical-align: middle;\n",
       "    }\n",
       "\n",
       "    .dataframe tbody tr th {\n",
       "        vertical-align: top;\n",
       "    }\n",
       "\n",
       "    .dataframe thead th {\n",
       "        text-align: right;\n",
       "    }\n",
       "</style>\n",
       "<table border=\"1\" class=\"dataframe\">\n",
       "  <thead>\n",
       "    <tr style=\"text-align: right;\">\n",
       "      <th></th>\n",
       "      <th>Unnamed: 0</th>\n",
       "      <th>Comments</th>\n",
       "      <th>Sentiment Scores</th>\n",
       "    </tr>\n",
       "  </thead>\n",
       "  <tbody>\n",
       "    <tr>\n",
       "      <th>0</th>\n",
       "      <td>0</td>\n",
       "      <td>pixel after card discount group group</td>\n",
       "      <td>0.0000</td>\n",
       "    </tr>\n",
       "    <tr>\n",
       "      <th>1</th>\n",
       "      <td>1</td>\n",
       "      <td>lakshay tanwar much bought there heating issue...</td>\n",
       "      <td>0.3612</td>\n",
       "    </tr>\n",
       "    <tr>\n",
       "      <th>2</th>\n",
       "      <td>2</td>\n",
       "      <td>group</td>\n",
       "      <td>0.0000</td>\n",
       "    </tr>\n",
       "    <tr>\n",
       "      <th>3</th>\n",
       "      <td>3</td>\n",
       "      <td>krooksgaminginhd around navratri</td>\n",
       "      <td>0.0000</td>\n",
       "    </tr>\n",
       "    <tr>\n",
       "      <th>4</th>\n",
       "      <td>4</td>\n",
       "      <td>what best smartphone under best camera vivo pi...</td>\n",
       "      <td>0.9274</td>\n",
       "    </tr>\n",
       "  </tbody>\n",
       "</table>\n",
       "</div>"
      ],
      "text/plain": [
       "   Unnamed: 0                                           Comments  \\\n",
       "0           0              pixel after card discount group group   \n",
       "1           1  lakshay tanwar much bought there heating issue...   \n",
       "2           2                                              group   \n",
       "3           3                   krooksgaminginhd around navratri   \n",
       "4           4  what best smartphone under best camera vivo pi...   \n",
       "\n",
       "   Sentiment Scores  \n",
       "0            0.0000  \n",
       "1            0.3612  \n",
       "2            0.0000  \n",
       "3            0.0000  \n",
       "4            0.9274  "
      ]
     },
     "execution_count": 64,
     "metadata": {},
     "output_type": "execute_result"
    }
   ],
   "source": [
    "comments.head()"
   ]
  },
  {
   "cell_type": "code",
   "execution_count": 65,
   "id": "77acf607",
   "metadata": {},
   "outputs": [],
   "source": [
    "comments['Sentiment'] = comments['Sentiment Scores'].apply(lambda s : 'Positive' if s > 0 else ('Neutral' if s == 0 else 'Negative'))\n",
    "comments.head()"
   ]
  },
  {
   "cell_type": "code",
   "execution_count": 67,
   "id": "b5f1745a",
   "metadata": {},
   "outputs": [
    {
     "data": {
      "text/plain": [
       "Neutral     768\n",
       "Positive    635\n",
       "Negative    188\n",
       "Name: Sentiment, dtype: int64"
      ]
     },
     "execution_count": 67,
     "metadata": {},
     "output_type": "execute_result"
    }
   ],
   "source": [
    "comments.Sentiment.value_counts()"
   ]
  },
  {
   "cell_type": "code",
   "execution_count": 68,
   "id": "8708390a",
   "metadata": {},
   "outputs": [
    {
     "name": "stdout",
     "output_type": "stream",
     "text": [
      "Neutral     48.271527\n",
      "Positive    39.912005\n",
      "Negative    11.816468\n",
      "Name: Sentiment, dtype: float64\n"
     ]
    }
   ],
   "source": [
    "percentages = comments['Sentiment'].value_counts(normalize=True) * 100\n",
    "\n",
    "neutral_df = comments[comments['Sentiment'] == 'Neutral']\n",
    "positive_df = comments[comments['Sentiment'] == 'Positive']\n",
    "negative_df = comments[comments['Sentiment'] == 'Negative']\n",
    "\n",
    "print(percentages)"
   ]
  },
  {
   "cell_type": "code",
   "execution_count": 69,
   "id": "c18edb3b",
   "metadata": {},
   "outputs": [
    {
     "data": {
      "text/html": [
       "<div>\n",
       "<style scoped>\n",
       "    .dataframe tbody tr th:only-of-type {\n",
       "        vertical-align: middle;\n",
       "    }\n",
       "\n",
       "    .dataframe tbody tr th {\n",
       "        vertical-align: top;\n",
       "    }\n",
       "\n",
       "    .dataframe thead th {\n",
       "        text-align: right;\n",
       "    }\n",
       "</style>\n",
       "<table border=\"1\" class=\"dataframe\">\n",
       "  <thead>\n",
       "    <tr style=\"text-align: right;\">\n",
       "      <th></th>\n",
       "      <th>Unnamed: 0</th>\n",
       "      <th>Comments</th>\n",
       "      <th>Sentiment Scores</th>\n",
       "      <th>Sentiment</th>\n",
       "    </tr>\n",
       "  </thead>\n",
       "  <tbody>\n",
       "    <tr>\n",
       "      <th>1</th>\n",
       "      <td>1</td>\n",
       "      <td>lakshay tanwar much bought there heating issue...</td>\n",
       "      <td>0.3612</td>\n",
       "      <td>Positive</td>\n",
       "    </tr>\n",
       "    <tr>\n",
       "      <th>4</th>\n",
       "      <td>4</td>\n",
       "      <td>what best smartphone under best camera vivo pi...</td>\n",
       "      <td>0.9274</td>\n",
       "      <td>Positive</td>\n",
       "    </tr>\n",
       "    <tr>\n",
       "      <th>5</th>\n",
       "      <td>5</td>\n",
       "      <td>second hand iphone years update better camera ...</td>\n",
       "      <td>0.7269</td>\n",
       "      <td>Positive</td>\n",
       "    </tr>\n",
       "    <tr>\n",
       "      <th>7</th>\n",
       "      <td>7</td>\n",
       "      <td>nearlight gaming pixel series will launched then</td>\n",
       "      <td>0.1280</td>\n",
       "      <td>Positive</td>\n",
       "    </tr>\n",
       "    <tr>\n",
       "      <th>9</th>\n",
       "      <td>9</td>\n",
       "      <td>crystal clear group</td>\n",
       "      <td>0.3818</td>\n",
       "      <td>Positive</td>\n",
       "    </tr>\n",
       "    <tr>\n",
       "      <th>11</th>\n",
       "      <td>11</td>\n",
       "      <td>atleast officially launching here middle east ...</td>\n",
       "      <td>0.0516</td>\n",
       "      <td>Positive</td>\n",
       "    </tr>\n",
       "    <tr>\n",
       "      <th>14</th>\n",
       "      <td>14</td>\n",
       "      <td>group think amazing package price gone from co...</td>\n",
       "      <td>0.6240</td>\n",
       "      <td>Positive</td>\n",
       "    </tr>\n",
       "    <tr>\n",
       "      <th>16</th>\n",
       "      <td>16</td>\n",
       "      <td>group wait months price drops just like older ...</td>\n",
       "      <td>0.3612</td>\n",
       "      <td>Positive</td>\n",
       "    </tr>\n",
       "    <tr>\n",
       "      <th>22</th>\n",
       "      <td>22</td>\n",
       "      <td>what best smartphone under camera year stable</td>\n",
       "      <td>0.7506</td>\n",
       "      <td>Positive</td>\n",
       "    </tr>\n",
       "    <tr>\n",
       "      <th>23</th>\n",
       "      <td>23</td>\n",
       "      <td>ajay ordered pixel then cancelled since could ...</td>\n",
       "      <td>0.3612</td>\n",
       "      <td>Positive</td>\n",
       "    </tr>\n",
       "    <tr>\n",
       "      <th>26</th>\n",
       "      <td>26</td>\n",
       "      <td>pixel cost amazon just more than</td>\n",
       "      <td>0.1779</td>\n",
       "      <td>Positive</td>\n",
       "    </tr>\n",
       "    <tr>\n",
       "      <th>27</th>\n",
       "      <td>27</td>\n",
       "      <td>group extremely overpriced when pixel easily a...</td>\n",
       "      <td>0.3400</td>\n",
       "      <td>Positive</td>\n",
       "    </tr>\n",
       "    <tr>\n",
       "      <th>29</th>\n",
       "      <td>29</td>\n",
       "      <td>feel like just google launch there phone this ...</td>\n",
       "      <td>0.0772</td>\n",
       "      <td>Positive</td>\n",
       "    </tr>\n",
       "    <tr>\n",
       "      <th>35</th>\n",
       "      <td>35</td>\n",
       "      <td>best price under sale</td>\n",
       "      <td>0.6369</td>\n",
       "      <td>Positive</td>\n",
       "    </tr>\n",
       "    <tr>\n",
       "      <th>38</th>\n",
       "      <td>38</td>\n",
       "      <td>these huge bezels moto edge fusion better desi...</td>\n",
       "      <td>0.6369</td>\n",
       "      <td>Positive</td>\n",
       "    </tr>\n",
       "    <tr>\n",
       "      <th>41</th>\n",
       "      <td>41</td>\n",
       "      <td>oneplus good choice</td>\n",
       "      <td>0.4404</td>\n",
       "      <td>Positive</td>\n",
       "    </tr>\n",
       "    <tr>\n",
       "      <th>42</th>\n",
       "      <td>42</td>\n",
       "      <td>using pixel satisfied</td>\n",
       "      <td>0.4215</td>\n",
       "      <td>Positive</td>\n",
       "    </tr>\n",
       "    <tr>\n",
       "      <th>44</th>\n",
       "      <td>44</td>\n",
       "      <td>nothing phone gonna drop soon with either that...</td>\n",
       "      <td>0.9233</td>\n",
       "      <td>Positive</td>\n",
       "    </tr>\n",
       "    <tr>\n",
       "      <th>46</th>\n",
       "      <td>46</td>\n",
       "      <td>guru praveen what joke already cycle only till...</td>\n",
       "      <td>0.5719</td>\n",
       "      <td>Positive</td>\n",
       "    </tr>\n",
       "    <tr>\n",
       "      <th>50</th>\n",
       "      <td>50</td>\n",
       "      <td>group when price drops during will considered ...</td>\n",
       "      <td>0.5994</td>\n",
       "      <td>Positive</td>\n",
       "    </tr>\n",
       "  </tbody>\n",
       "</table>\n",
       "</div>"
      ],
      "text/plain": [
       "    Unnamed: 0                                           Comments  \\\n",
       "1            1  lakshay tanwar much bought there heating issue...   \n",
       "4            4  what best smartphone under best camera vivo pi...   \n",
       "5            5  second hand iphone years update better camera ...   \n",
       "7            7   nearlight gaming pixel series will launched then   \n",
       "9            9                                crystal clear group   \n",
       "11          11  atleast officially launching here middle east ...   \n",
       "14          14  group think amazing package price gone from co...   \n",
       "16          16  group wait months price drops just like older ...   \n",
       "22          22      what best smartphone under camera year stable   \n",
       "23          23  ajay ordered pixel then cancelled since could ...   \n",
       "26          26                   pixel cost amazon just more than   \n",
       "27          27  group extremely overpriced when pixel easily a...   \n",
       "29          29  feel like just google launch there phone this ...   \n",
       "35          35                              best price under sale   \n",
       "38          38  these huge bezels moto edge fusion better desi...   \n",
       "41          41                                oneplus good choice   \n",
       "42          42                              using pixel satisfied   \n",
       "44          44  nothing phone gonna drop soon with either that...   \n",
       "46          46  guru praveen what joke already cycle only till...   \n",
       "50          50  group when price drops during will considered ...   \n",
       "\n",
       "    Sentiment Scores Sentiment  \n",
       "1             0.3612  Positive  \n",
       "4             0.9274  Positive  \n",
       "5             0.7269  Positive  \n",
       "7             0.1280  Positive  \n",
       "9             0.3818  Positive  \n",
       "11            0.0516  Positive  \n",
       "14            0.6240  Positive  \n",
       "16            0.3612  Positive  \n",
       "22            0.7506  Positive  \n",
       "23            0.3612  Positive  \n",
       "26            0.1779  Positive  \n",
       "27            0.3400  Positive  \n",
       "29            0.0772  Positive  \n",
       "35            0.6369  Positive  \n",
       "38            0.6369  Positive  \n",
       "41            0.4404  Positive  \n",
       "42            0.4215  Positive  \n",
       "44            0.9233  Positive  \n",
       "46            0.5719  Positive  \n",
       "50            0.5994  Positive  "
      ]
     },
     "execution_count": 69,
     "metadata": {},
     "output_type": "execute_result"
    }
   ],
   "source": [
    "positive_df.head(20)"
   ]
  },
  {
   "cell_type": "code",
   "execution_count": null,
   "id": "ed1eef0d",
   "metadata": {},
   "outputs": [],
   "source": []
  }
 ],
 "metadata": {
  "kernelspec": {
   "display_name": "Python 3 (ipykernel)",
   "language": "python",
   "name": "python3"
  },
  "language_info": {
   "codemirror_mode": {
    "name": "ipython",
    "version": 3
   },
   "file_extension": ".py",
   "mimetype": "text/x-python",
   "name": "python",
   "nbconvert_exporter": "python",
   "pygments_lexer": "ipython3",
   "version": "3.9.13"
  }
 },
 "nbformat": 4,
 "nbformat_minor": 5
}
