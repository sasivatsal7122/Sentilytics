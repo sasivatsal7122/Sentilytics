{
 "cells": [
  {
   "cell_type": "code",
   "execution_count": 20,
   "id": "cd7598b0",
   "metadata": {},
   "outputs": [],
   "source": [
    "from transformers import AutoModelForSequenceClassification, AutoTokenizer\n",
    "import numpy as np\n",
    "from scipy.special import softmax\n",
    "import csv\n",
    "import urllib.request\n",
    "import pandas as pd\n",
    "from nltk.corpus import stopwords\n",
    "from nltk.tokenize import word_tokenize\n",
    "from nltk.stem import WordNetLemmatizer\n",
    "import string\n",
    "\n",
    "task = 'emotion'\n",
    "MODEL = f\"cardiffnlp/twitter-roberta-base-{task}\"\n",
    "\n",
    "tokenizer = AutoTokenizer.from_pretrained(MODEL)\n",
    "model = AutoModelForSequenceClassification.from_pretrained(MODEL)\n",
    "\n",
    "robert_emotion_df = pd.read_csv(\"All_lUDozITit6w_master.csv\")\n",
    "robert_emotion_df['Comments'] = robert_emotion_df['Comments'].astype(str)\n",
    "robert_emotion_df['Sentiment Scores'] = ''\n",
    "robert_emotion_df['Sentiment'] = ''\n",
    "\n",
    "for index, row in robert_emotion_df.iterrows():\n",
    "    comment = row['Comments']\n",
    "\n",
    "    encoded_input = tokenizer(preprocessed_comment, return_tensors='pt')\n",
    "    output = model(**encoded_input)\n",
    "    scores = output.logits[0].detach().numpy()\n",
    "    scores = softmax(scores)\n",
    "\n",
    "    ranking = np.argsort(scores)\n",
    "    ranking = ranking[::-1]\n",
    "    for i in range(scores.shape[0]):\n",
    "        l = labels[ranking[i]]\n",
    "        s = scores[ranking[i]]\n",
    "        if i == 0:\n",
    "            robert_emotion_df.at[index, 'Sentiment Scores'] = np.round(float(s), 4)\n",
    "            robert_emotion_df.at[index, 'Sentiment'] = l.title()\n",
    "            break\n"
   ]
  },
  {
   "cell_type": "code",
   "execution_count": 21,
   "id": "c09c18ba",
   "metadata": {},
   "outputs": [
    {
     "data": {
      "text/plain": [
       "array([], shape=(0, 5), dtype=object)"
      ]
     },
     "execution_count": 21,
     "metadata": {},
     "output_type": "execute_result"
    }
   ],
   "source": [
    "robert_emotion_df.loc[robert_emotion_df.Sentiment=='Anger'].values"
   ]
  },
  {
   "cell_type": "code",
   "execution_count": 22,
   "id": "8c25cbcb",
   "metadata": {},
   "outputs": [
    {
     "data": {
      "text/plain": [
       "0       Joy\n",
       "1       Joy\n",
       "2       Joy\n",
       "3       Joy\n",
       "4       Joy\n",
       "       ... \n",
       "1609    Joy\n",
       "1610    Joy\n",
       "1611    Joy\n",
       "1612    Joy\n",
       "1613    Joy\n",
       "Name: Sentiment, Length: 1614, dtype: object"
      ]
     },
     "execution_count": 22,
     "metadata": {},
     "output_type": "execute_result"
    }
   ],
   "source": [
    "robert_emotion_df.Sentiment"
   ]
  },
  {
   "cell_type": "code",
   "execution_count": null,
   "id": "0b3e6bc5",
   "metadata": {},
   "outputs": [],
   "source": []
  }
 ],
 "metadata": {
  "kernelspec": {
   "display_name": "Python 3 (ipykernel)",
   "language": "python",
   "name": "python3"
  },
  "language_info": {
   "codemirror_mode": {
    "name": "ipython",
    "version": 3
   },
   "file_extension": ".py",
   "mimetype": "text/x-python",
   "name": "python",
   "nbconvert_exporter": "python",
   "pygments_lexer": "ipython3",
   "version": "3.9.13"
  }
 },
 "nbformat": 4,
 "nbformat_minor": 5
}
